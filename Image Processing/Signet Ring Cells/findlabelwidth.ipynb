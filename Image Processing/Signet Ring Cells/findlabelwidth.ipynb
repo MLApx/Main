{
 "cells": [
  {
   "cell_type": "code",
   "execution_count": 1,
   "metadata": {},
   "outputs": [],
   "source": [
    "from sagemaker import get_execution_role\n",
    "from bs4 import BeautifulSoup \n",
    "import pandas as pd\n",
    "import sagemaker\n",
    "import boto3\n",
    "import json\n",
    "import os"
   ]
  },
  {
   "cell_type": "code",
   "execution_count": 2,
   "metadata": {},
   "outputs": [],
   "source": [
    "role = get_execution_role()\n",
    "sess = sagemaker.Session()"
   ]
  },
  {
   "cell_type": "code",
   "execution_count": 4,
   "metadata": {},
   "outputs": [],
   "source": [
    "bucketName = 'signetringcell'\n",
    "folderName = 'challenge1-signetringcell-dataset/sig-train-pos/sig-train-pos/'"
   ]
  },
  {
   "cell_type": "code",
   "execution_count": 5,
   "metadata": {},
   "outputs": [],
   "source": [
    "s3_client = boto3.client('s3')\n",
    "bucket = s3_client.list_objects(Bucket=bucketName, Prefix=folderName)"
   ]
  },
  {
   "cell_type": "code",
   "execution_count": 27,
   "metadata": {},
   "outputs": [],
   "source": [
    "# Function to create json annotation file from xml file and move that json file to s3\n",
    "def xml_to_json(data, bucketName, folderName, fileName):\n",
    "    \"\"\"\n",
    "    data: content being read\n",
    "    bucketName: bucket being read from\n",
    "    folderName: folder being wrote to\n",
    "    file_name: xml file being read\n",
    "    \"\"\"\n",
    "    maxwidth=0\n",
    "    Bs_data = BeautifulSoup(data, \"xml\") \n",
    "    b_unique = Bs_data.find_all('bndbox') \n",
    "    data1={}\n",
    "    data1['annotations']=[]\n",
    "    for i in range(len(b_unique)):\n",
    "        z=b_unique[i]\n",
    "        y=str(z)\n",
    "        yy=y.partition('\\n')[2]\n",
    "        xmin=yy.split(\"</xmin>\",1)[0]\n",
    "        xmin=xmin.split(\"<xmin>\",1)[1]\n",
    "        ymin=yy.split(\"</ymin>\",1)[0] \n",
    "        ymin=ymin.split(\"<ymin>\",1)[1]\n",
    "        xmax=yy.split(\"</xmax>\",1)[0] \n",
    "        xmax=xmax.split(\"<xmax>\",1)[1]\n",
    "        ymax=yy.split(\"</ymax>\",1)[0] \n",
    "        ymax=ymax.split(\"<ymax>\",1)[1]\n",
    "        left=int(xmin)\n",
    "        top=int(ymax)\n",
    "        height=str(int(ymax)-int(ymin))\n",
    "        width=str(int(xmax)-int(xmin))\n",
    "        if(int(width)>maxwidth):\n",
    "            maxwidth=int(width)\n",
    "        data1['annotations'].append({\n",
    "            'class_id': 0,\n",
    "            'left': left,\n",
    "            'top' : top,\n",
    "            'width' : width,\n",
    "            'height' :height\n",
    "        })\n",
    "    data1['categories']=[]\n",
    "    data1['categories'].append({\n",
    "        'class_id' : 0,\n",
    "        'name' : \"signet ring cell\"\n",
    "    })\n",
    "    #print(str(maxwidth))\n",
    "    print(i)\n"
   ]
  },
  {
   "cell_type": "code",
   "execution_count": 28,
   "metadata": {},
   "outputs": [],
   "source": [
    "import s3fs\n",
    "fs = s3fs.S3FileSystem()"
   ]
  },
  {
   "cell_type": "code",
   "execution_count": 29,
   "metadata": {},
   "outputs": [],
   "source": [
    "SRC_folderName = 'challenge1-signetringcell-dataset/src_detection_model/train_annotation/'"
   ]
  },
  {
   "cell_type": "code",
   "execution_count": 30,
   "metadata": {},
   "outputs": [
    {
     "name": "stdout",
     "output_type": "stream",
     "text": [
      "63\n",
      "39\n",
      "49\n",
      "41\n",
      "27\n",
      "42\n",
      "26\n",
      "50\n",
      "67\n",
      "33\n",
      "69\n",
      "123\n",
      "59\n",
      "39\n",
      "18\n",
      "34\n",
      "28\n",
      "194\n",
      "220\n",
      "210\n",
      "195\n",
      "210\n",
      "138\n",
      "112\n",
      "94\n",
      "49\n",
      "35\n",
      "170\n",
      "61\n",
      "43\n",
      "33\n",
      "34\n",
      "24\n",
      "7\n",
      "10\n",
      "30\n",
      "37\n",
      "28\n",
      "23\n",
      "55\n",
      "54\n",
      "96\n",
      "241\n",
      "273\n",
      "112\n",
      "114\n",
      "76\n",
      "43\n",
      "63\n",
      "201\n",
      "211\n",
      "214\n",
      "105\n",
      "94\n",
      "294\n",
      "350\n",
      "280\n",
      "221\n",
      "282\n",
      "205\n",
      "199\n",
      "228\n",
      "196\n",
      "222\n",
      "202\n",
      "120\n",
      "129\n",
      "87\n",
      "182\n",
      "200\n",
      "322\n",
      "217\n",
      "194\n",
      "192\n",
      "183\n",
      "174\n",
      "238\n"
     ]
    }
   ],
   "source": [
    "#Create annotation file for each image\n",
    "for img_num in range(len(bucket['Contents'])):\n",
    "    if img_num%2==1:\n",
    "        file_name = bucket['Contents'][img_num]['Key']\n",
    "        with fs.open('{}/{}'.format(bucketName, file_name)) as f:\n",
    "            data = f.read()\n",
    "            xml_to_json(data, bucketName, SRC_folderName, file_name)"
   ]
  },
  {
   "cell_type": "code",
   "execution_count": 31,
   "metadata": {},
   "outputs": [
    {
     "ename": "TypeError",
     "evalue": "'file_name' is an invalid keyword argument for print()",
     "output_type": "error",
     "traceback": [
      "\u001b[0;31m---------------------------------------------------------------------------\u001b[0m",
      "\u001b[0;31mTypeError\u001b[0m                                 Traceback (most recent call last)",
      "\u001b[0;32m<ipython-input-31-634e5a01b92f>\u001b[0m in \u001b[0;36m<module>\u001b[0;34m\u001b[0m\n\u001b[0;32m----> 1\u001b[0;31m \u001b[0mprint\u001b[0m\u001b[0;34m(\u001b[0m\u001b[0mfile_name\u001b[0m \u001b[0;34m=\u001b[0m \u001b[0mbucket\u001b[0m\u001b[0;34m[\u001b[0m\u001b[0;34m'Contents'\u001b[0m\u001b[0;34m]\u001b[0m\u001b[0;34m[\u001b[0m\u001b[0mimg_num\u001b[0m\u001b[0;34m]\u001b[0m\u001b[0;34m[\u001b[0m\u001b[0;34m'Key'\u001b[0m\u001b[0;34m]\u001b[0m\u001b[0;34m)\u001b[0m\u001b[0;34m\u001b[0m\u001b[0;34m\u001b[0m\u001b[0m\n\u001b[0m",
      "\u001b[0;31mTypeError\u001b[0m: 'file_name' is an invalid keyword argument for print()"
     ]
    }
   ],
   "source": [
    "print(file_name = bucket['Contents'][img_num]['Key'])"
   ]
  },
  {
   "cell_type": "code",
   "execution_count": 32,
   "metadata": {},
   "outputs": [],
   "source": [
    "file_name = bucket['Contents'][img_num]['Key']"
   ]
  },
  {
   "cell_type": "code",
   "execution_count": 33,
   "metadata": {},
   "outputs": [
    {
     "name": "stdout",
     "output_type": "stream",
     "text": [
      "challenge1-signetringcell-dataset/sig-train-pos/sig-train-pos/G1901976_2019-04-30 14_03_43-lv0-42750-26583-2019-2008.xml\n"
     ]
    }
   ],
   "source": [
    "print(file_name)"
   ]
  },
  {
   "cell_type": "code",
   "execution_count": null,
   "metadata": {},
   "outputs": [],
   "source": []
  }
 ],
 "metadata": {
  "instance_type": "ml.t3.medium",
  "kernelspec": {
   "display_name": "Python 3 (Data Science)",
   "language": "python",
   "name": "python3__SAGEMAKER_INTERNAL__arn:aws:sagemaker:us-east-1:081325390199:image/datascience-1.0"
  },
  "language_info": {
   "codemirror_mode": {
    "name": "ipython",
    "version": 3
   },
   "file_extension": ".py",
   "mimetype": "text/x-python",
   "name": "python",
   "nbconvert_exporter": "python",
   "pygments_lexer": "ipython3",
   "version": "3.7.6"
  }
 },
 "nbformat": 4,
 "nbformat_minor": 4
}
