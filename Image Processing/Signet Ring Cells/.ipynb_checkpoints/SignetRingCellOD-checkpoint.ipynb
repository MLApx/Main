{
 "cells": [
  {
   "cell_type": "code",
   "execution_count": 56,
   "metadata": {},
   "outputs": [],
   "source": [
    "import boto3\n",
    "import pandas as pd\n",
    "import sagemaker\n",
    "from sagemaker import get_execution_role"
   ]
  },
  {
   "cell_type": "code",
   "execution_count": 57,
   "metadata": {},
   "outputs": [],
   "source": [
    "role = get_execution_role()"
   ]
  },
  {
   "cell_type": "code",
   "execution_count": 58,
   "metadata": {},
   "outputs": [],
   "source": [
    "bucketName = 'signet-ring-cell-bryan'\n",
    "folderName = 'challenge1-signetringcell-dataset/sig-train-neg/'"
   ]
  },
  {
   "cell_type": "code",
   "execution_count": 59,
   "metadata": {},
   "outputs": [],
   "source": [
    "loc = 's3://{}/{}'.format(bucket, folder)"
   ]
  },
  {
   "cell_type": "code",
   "execution_count": 60,
   "metadata": {},
   "outputs": [],
   "source": [
    "bucket = boto3.client('s3').list_objects(Bucket=bucketName, Prefix=folderName)"
   ]
  },
  {
   "cell_type": "code",
   "execution_count": 61,
   "metadata": {},
   "outputs": [
    {
     "name": "stdout",
     "output_type": "stream",
     "text": [
      "challenge1-signetringcell-dataset/sig-train-neg/sig-train-neg/18-36771A_2019-05-08 22_29_28-lv0-40882-42749-2000-2000.jpeg\n",
      "challenge1-signetringcell-dataset/sig-train-neg/sig-train-neg/18-36771A_2019-05-08 22_29_28-lv0-44320-43589-2000-2000.jpeg\n",
      "challenge1-signetringcell-dataset/sig-train-neg/sig-train-neg/18-36771A_2019-05-08 22_29_28-lv0-50178-15688-2000-2000.jpeg\n",
      "challenge1-signetringcell-dataset/sig-train-neg/sig-train-neg/18-36771A_2019-05-08 22_29_28-lv0-6126-27812-2000-2000.jpeg\n",
      "challenge1-signetringcell-dataset/sig-train-neg/sig-train-neg/18-36771A_2019-05-08 22_29_28-lv0-8948-24590-2000-2000.jpeg\n"
     ]
    }
   ],
   "source": [
    "# First five images in our dataset\n",
    "for img_num in range(1,6):\n",
    "    print(bucket['Contents'][img_num]['Key'])"
   ]
  },
  {
   "cell_type": "code",
   "execution_count": null,
   "metadata": {},
   "outputs": [],
   "source": [
    "from bs4 import BeautifulSoup \n",
    "import json\n",
    "with open('2018_64982_1-3_2019-02-25 21_57_36-lv0-33516-59515-2003-2010.xml', 'r') as f: \n",
    "    data = f.read() \n",
    "  "
   ]
  },
  {
   "cell_type": "code",
   "execution_count": null,
   "metadata": {},
   "outputs": [],
   "source": [
    "Bs_data = BeautifulSoup(data, \"xml\") \n",
    "zz=Bs_data.find_all(\"size\")\n",
    "#print(zz)\n",
    "yyyy=str(zz)\n",
    "size=yyyy.partition('\\n')[2]\n",
    "print(size)\n",
    "wid=size.split(\"</width>\",1)[0] \n",
    "wid=wid.split(\"<width>\",1)[1]\n",
    "print(wid)\n",
    "hei=size.split(\"</height>\",1)[0] \n",
    "hei=hei.split(\"<height>\",1)[1]\n",
    "print(hei)\n",
    "depth=size.split(\"</depth>\",1)[0] \n",
    "depth=depth.split(\"<depth>\",1)[1]\n",
    "print(depth)"
   ]
  },
  {
   "cell_type": "code",
   "execution_count": null,
   "metadata": {},
   "outputs": [],
   "source": [
    "data1={}\n",
    "data1['files']='2018_64982_1-3_2019-02-25 21_57_36-lv0-33516-59515-2003-2010.xml'\n",
    "data1['image_size']=[]\n",
    "data1['image_size'].append({\n",
    "    'width' : wid,\n",
    "    'height' : hei,\n",
    "    'depth' : depth\n",
    "})\n",
    "data1['annotations']=[]\n",
    "for i in range(len(b_unique)):\n",
    "  z=b_unique[i]\n",
    "  y=str(z)\n",
    "  yy=y.partition('\\n')[2]\n",
    "  xmin=yy.split(\"</xmin>\",1)[0] \n",
    "  xmin=xmin.split(\"<xmin>\",1)[1]\n",
    "  ymin=yy.split(\"</ymin>\",1)[0] \n",
    "  ymin=ymin.split(\"<ymin>\",1)[1]\n",
    "  xmax=yy.split(\"</xmax>\",1)[0] \n",
    "  xmax=xmax.split(\"<xmax>\",1)[1]\n",
    "  ymax=yy.split(\"</ymax>\",1)[0] \n",
    "  ymax=ymax.split(\"<ymax>\",1)[1]\n",
    "  left=int(xmin)\n",
    "  top=int(ymax)\n",
    "  height=str(int(ymax)-int(ymin))\n",
    "  width=str(int(xmax)-int(xmin))\n",
    "  data1['annotations'].append({\n",
    "      'class_id': 0,\n",
    "      'left': left,\n",
    "      'top' : top,\n",
    "      'width' : width,\n",
    "      'height' :height\n",
    "      })\n",
    "data1['categories']=[]\n",
    "data1['categories'].append({\n",
    "    'class_id' : 0,\n",
    "    'name' : \"signet ring cell\"\n",
    "})\n",
    "with open('data.json', 'w') as outfile:\n",
    "    json.dump(data1, outfile)"
   ]
  }
 ],
 "metadata": {
  "instance_type": "ml.t3.medium",
  "kernelspec": {
   "display_name": "Python 3 (Data Science)",
   "language": "python",
   "name": "python3__SAGEMAKER_INTERNAL__arn:aws:sagemaker:us-east-2:429704687514:image/datascience-1.0"
  },
  "language_info": {
   "codemirror_mode": {
    "name": "ipython",
    "version": 3
   },
   "file_extension": ".py",
   "mimetype": "text/x-python",
   "name": "python",
   "nbconvert_exporter": "python",
   "pygments_lexer": "ipython3",
   "version": "3.7.6"
  }
 },
 "nbformat": 4,
 "nbformat_minor": 4
}
