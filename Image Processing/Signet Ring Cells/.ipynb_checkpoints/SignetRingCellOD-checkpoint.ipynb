{
 "cells": [
  {
   "cell_type": "code",
   "execution_count": 14,
   "metadata": {},
   "outputs": [],
   "source": [
    "import boto3\n",
    "import pandas as pd\n",
    "import sagemaker\n",
    "from sagemaker import get_execution_role"
   ]
  },
  {
   "cell_type": "code",
   "execution_count": 15,
   "metadata": {},
   "outputs": [],
   "source": [
    "role = get_execution_role()"
   ]
  },
  {
   "cell_type": "code",
   "execution_count": 67,
   "metadata": {},
   "outputs": [],
   "source": [
    "bucketName = 'signet-ring-cell-bryan'\n",
    "folderName = 'challenge1-signetringcell-dataset/sig-train-pos/sig-train-pos/'"
   ]
  },
  {
   "cell_type": "code",
   "execution_count": 46,
   "metadata": {},
   "outputs": [],
   "source": [
    "s3_client = boto3.client('s3')\n",
    "bucket = s3_client.list_objects(Bucket=bucketName, Prefix=folderName)"
   ]
  },
  {
   "cell_type": "code",
   "execution_count": 47,
   "metadata": {},
   "outputs": [
    {
     "name": "stdout",
     "output_type": "stream",
     "text": [
      "challenge1-signetringcell-dataset/sig-train-pos/sig-train-pos/2018_64982_1-3_2019-02-25 21_57_36-lv0-33516-59515-2003-2010.xml\n",
      "challenge1-signetringcell-dataset/sig-train-pos/sig-train-pos/2018_64982_1-3_2019-02-25 21_57_36-lv0-34589-61706-2030-2044.xml\n",
      "challenge1-signetringcell-dataset/sig-train-pos/sig-train-pos/2018_64982_1-3_2019-02-25 21_57_36-lv0-36515-58465-2013-2071.xml\n",
      "challenge1-signetringcell-dataset/sig-train-pos/sig-train-pos/2018_64982_1-3_2019-02-25 21_57_36-lv0-37528-60747-2016-2000.xml\n",
      "challenge1-signetringcell-dataset/sig-train-pos/sig-train-pos/2018_64982_1-3_2019-02-25 21_57_36-lv0-38368-62991-2040-2016.xml\n"
     ]
    }
   ],
   "source": [
    "# First five images (xml files) in our dataset\n",
    "for img_num in range(1,11):\n",
    "    if img_num%2==0:\n",
    "        print(bucket['Contents'][img_num]['Key'])"
   ]
  },
  {
   "cell_type": "code",
   "execution_count": 48,
   "metadata": {},
   "outputs": [
    {
     "data": {
      "text/plain": [
       "155"
      ]
     },
     "execution_count": 48,
     "metadata": {},
     "output_type": "execute_result"
    }
   ],
   "source": [
    "len(bucket['Contents'])"
   ]
  },
  {
   "cell_type": "code",
   "execution_count": 19,
   "metadata": {},
   "outputs": [],
   "source": [
    "# import pickle\n",
    "\n",
    "# s3client = boto3.client('s3')\n",
    "# s3 = boto3.resource('s3')\n",
    "# src_bucket = s3.Bucket(bucketName)\n",
    "# data_key = 'challenge1-signetringcell-dataset/sig-train-pos/sig-train-pos/2018_64982_1-3_2019-02-25 21_57_36-lv0-33516-59515-2003-2010.xml'\n",
    "# data_location = 's3://{}/{}'.format(bucketName, data_key)\n",
    "# response = s3client.get_object(Bucket=bucketName, Key=folderName)\n",
    "# files = src_bucket.objects.all()\n",
    "# first_file = s3.Object(bucketName, data_key)"
   ]
  },
  {
   "cell_type": "code",
   "execution_count": 25,
   "metadata": {},
   "outputs": [],
   "source": [
    "import s3fs\n",
    "fs = s3fs.S3FileSystem()\n",
    "\n",
    "# To List 5 files in your accessible bucket\n",
    "fs.ls('signet-ring-cell-bryan/challenge1-signetringcell-dataset/sig-train-pos/sig-train-pos/')[:5]\n",
    "\n",
    "# open it directly\n",
    "with fs.open('s3://signet-ring-cell-bryan/challenge1-signetringcell-dataset/sig-train-pos/sig-train-pos/2018_64982_1-3_2019-02-25 21_57_36-lv0-33516-59515-2003-2010.xml') as f:\n",
    "        data = f.read() "
   ]
  },
  {
   "cell_type": "code",
   "execution_count": 26,
   "metadata": {},
   "outputs": [],
   "source": [
    "from bs4 import BeautifulSoup \n",
    "import json"
   ]
  },
  {
   "cell_type": "code",
   "execution_count": 52,
   "metadata": {},
   "outputs": [],
   "source": [
    "def xml_to_json(data, file_name):\n",
    "    Bs_data = BeautifulSoup(data, \"xml\") \n",
    "    zz=Bs_data.find_all(\"size\")\n",
    "    #print(zz)\n",
    "    yyyy=str(zz)\n",
    "    size=yyyy.partition('\\n')[2]\n",
    "    #print(size)\n",
    "    wid=size.split(\"</width>\",1)[0] \n",
    "    wid=wid.split(\"<width>\",1)[1]\n",
    "    #print(wid)\n",
    "    hei=size.split(\"</height>\",1)[0] \n",
    "    hei=hei.split(\"<height>\",1)[1]\n",
    "    #print(hei)\n",
    "    depth=size.split(\"</depth>\",1)[0] \n",
    "    depth=depth.split(\"<depth>\",1)[1]\n",
    "    #print(depth)\n",
    "    b_unique = Bs_data.find_all('bndbox') \n",
    "    data1={}\n",
    "    data1['files']=file_name\n",
    "    data1['image_size']=[]\n",
    "    data1['image_size'].append({\n",
    "        'width' : wid,\n",
    "        'height' : hei,\n",
    "        'depth' : depth\n",
    "    })\n",
    "    data1['annotations']=[]\n",
    "    for i in range(len(b_unique)):\n",
    "        z=b_unique[i]\n",
    "        y=str(z)\n",
    "        yy=y.partition('\\n')[2]\n",
    "        xmin=yy.split(\"</xmin>\",1)[0]\n",
    "        xmin=xmin.split(\"<xmin>\",1)[1]\n",
    "        ymin=yy.split(\"</ymin>\",1)[0] \n",
    "        ymin=ymin.split(\"<ymin>\",1)[1]\n",
    "        xmax=yy.split(\"</xmax>\",1)[0] \n",
    "        xmax=xmax.split(\"<xmax>\",1)[1]\n",
    "        ymax=yy.split(\"</ymax>\",1)[0] \n",
    "        ymax=ymax.split(\"<ymax>\",1)[1]\n",
    "        left=int(xmin)\n",
    "        top=int(ymax)\n",
    "        height=str(int(ymax)-int(ymin))\n",
    "        width=str(int(xmax)-int(xmin))\n",
    "        data1['annotations'].append({\n",
    "            'class_id': 0,\n",
    "            'left': left,\n",
    "            'top' : top,\n",
    "            'width' : width,\n",
    "            'height' :height\n",
    "        })\n",
    "    data1['categories']=[]\n",
    "    data1['categories'].append({\n",
    "        'class_id' : 0,\n",
    "        'name' : \"signet ring cell\"\n",
    "    })\n",
    "    \n",
    "\n",
    "#s3='signet-ring-cell-bryan/challenge1-signetringcell-dataset/sig-train-pos/sig-train-pos/'\n",
    "#json.dump_s3(data1, \"data.json\") # saves json to s3://bucket/key\n",
    "    with open('test.json', 'w') as outfile:\n",
    "        print(\"writing file\")\n",
    "        json.dump(data1, outfile) # saves json to s3://bucket/key"
   ]
  },
  {
   "cell_type": "code",
   "execution_count": 53,
   "metadata": {},
   "outputs": [
    {
     "name": "stdout",
     "output_type": "stream",
     "text": [
      "writing file\n"
     ]
    }
   ],
   "source": [
    "xml_to_json(data, 's3://signet-ring-cell-bryan/challenge1-signetringcell-dataset/sig-train-pos/sig-train-pos/2018_64982_1-3_2019-02-25 21_57_36-lv0-33516-59515-2003-2010.xml')\n"
   ]
  },
  {
   "cell_type": "code",
   "execution_count": 51,
   "metadata": {},
   "outputs": [],
   "source": [
    "import os"
   ]
  },
  {
   "cell_type": "code",
   "execution_count": 73,
   "metadata": {},
   "outputs": [],
   "source": [
    "def json_to_s3(bucket, folderName, fileName):\n",
    "    with open(fileName, 'rb') as f:\n",
    "        s3_client.upload_fileobj(f, bucket, 'challenge1-signetringcell-dataset/sig-train-pos/sig-train-pos/test1.json')\n",
    "    #except ClientError as e:\n",
    "      #  print(e)"
   ]
  },
  {
   "cell_type": "code",
   "execution_count": 74,
   "metadata": {},
   "outputs": [],
   "source": [
    "json_to_s3(bucketName, folderName, 'test.json')"
   ]
  },
  {
   "cell_type": "code",
   "execution_count": 75,
   "metadata": {},
   "outputs": [],
   "source": [
    "# Create our bucket for training and validation data\n",
    "\n",
    "prefix = 'src_detection_model/'\n",
    "\n",
    "train_channel = prefix + '/train'\n",
    "validation_channel = prefix + '/validation'\n",
    "train_annotation_channel = prefix + '/train_annotation'\n",
    "validation_annotation_channel = prefix + '/validation_annotation'"
   ]
  },
  {
   "cell_type": "code",
   "execution_count": 76,
   "metadata": {},
   "outputs": [],
   "source": [
    "sess = sagemaker.Session()\n",
    "od_bucket = sess.default_bucket()"
   ]
  },
  {
   "cell_type": "code",
   "execution_count": null,
   "metadata": {},
   "outputs": [],
   "source": []
  }
 ],
 "metadata": {
  "instance_type": "ml.t3.medium",
  "kernelspec": {
   "display_name": "Python 3 (Data Science)",
   "language": "python",
   "name": "python3__SAGEMAKER_INTERNAL__arn:aws:sagemaker:us-east-2:429704687514:image/datascience-1.0"
  },
  "language_info": {
   "codemirror_mode": {
    "name": "ipython",
    "version": 3
   },
   "file_extension": ".py",
   "mimetype": "text/x-python",
   "name": "python",
   "nbconvert_exporter": "python",
   "pygments_lexer": "ipython3",
   "version": "3.7.6"
  }
 },
 "nbformat": 4,
 "nbformat_minor": 4
}
