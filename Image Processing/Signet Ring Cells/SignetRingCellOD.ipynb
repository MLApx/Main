{
 "cells": [
  {
   "cell_type": "code",
   "execution_count": 1,
   "metadata": {},
   "outputs": [],
   "source": [
    "import boto3\n",
    "import pandas as pd\n",
    "import sagemaker\n",
    "from sagemaker import get_execution_role"
   ]
  },
  {
   "cell_type": "code",
   "execution_count": 2,
   "metadata": {},
   "outputs": [],
   "source": [
    "role = get_execution_role()"
   ]
  },
  {
   "cell_type": "code",
   "execution_count": 3,
   "metadata": {},
   "outputs": [],
   "source": [
    "bucketName = 'signet-ring-cell-bryan'\n",
    "folderName = 'challenge1-signetringcell-dataset/sig-train-pos/'"
   ]
  },
  {
   "cell_type": "code",
   "execution_count": 4,
   "metadata": {},
   "outputs": [],
   "source": [
    "bucket = boto3.client('s3').list_objects(Bucket=bucketName, Prefix=folderName)"
   ]
  },
  {
   "cell_type": "code",
   "execution_count": 5,
   "metadata": {},
   "outputs": [
    {
     "name": "stdout",
     "output_type": "stream",
     "text": [
      "challenge1-signetringcell-dataset/sig-train-pos/sig-train-pos/2018_64982_1-3_2019-02-25 21_57_36-lv0-33516-59515-2003-2010.xml\n",
      "challenge1-signetringcell-dataset/sig-train-pos/sig-train-pos/2018_64982_1-3_2019-02-25 21_57_36-lv0-34589-61706-2030-2044.xml\n",
      "challenge1-signetringcell-dataset/sig-train-pos/sig-train-pos/2018_64982_1-3_2019-02-25 21_57_36-lv0-36515-58465-2013-2071.xml\n",
      "challenge1-signetringcell-dataset/sig-train-pos/sig-train-pos/2018_64982_1-3_2019-02-25 21_57_36-lv0-37528-60747-2016-2000.xml\n",
      "challenge1-signetringcell-dataset/sig-train-pos/sig-train-pos/2018_64982_1-3_2019-02-25 21_57_36-lv0-38368-62991-2040-2016.xml\n"
     ]
    }
   ],
   "source": [
    "# First five images (xml files) in our dataset\n",
    "for img_num in range(1,11):\n",
    "    if img_num%2==0:\n",
    "        print(bucket['Contents'][img_num]['Key'])"
   ]
  },
  {
   "cell_type": "code",
   "execution_count": 28,
   "metadata": {},
   "outputs": [],
   "source": [
    "import pickle\n",
    "\n",
    "s3client = boto3.client('s3')\n",
    "s3 = boto3.resource('s3')\n",
    "src_bucket = s3.Bucket(bucketName)\n",
    "data_key = 'challenge1-signetringcell-dataset/sig-train-pos/sig-train-pos/2018_64982_1-3_2019-02-25 21_57_36-lv0-33516-59515-2003-2010.xml'\n",
    "data_location = 's3://{}/{}'.format(bucketName, data_key)\n",
    "response = s3client.get_object(Bucket=bucketName, Key=folderName)\n",
    "files = src_bucket.objects.all()"
   ]
  },
  {
   "cell_type": "code",
   "execution_count": 32,
   "metadata": {},
   "outputs": [],
   "source": [
    "first_file = s3.Object(bucketName, data_key)\n",
    "# first_file.get()['Body'].read()"
   ]
  },
  {
   "cell_type": "code",
   "execution_count": 15,
   "metadata": {},
   "outputs": [
    {
     "ename": "TypeError",
     "evalue": "expected str, bytes or os.PathLike object, not dict",
     "output_type": "error",
     "traceback": [
      "\u001b[0;31m---------------------------------------------------------------------------\u001b[0m",
      "\u001b[0;31mTypeError\u001b[0m                                 Traceback (most recent call last)",
      "\u001b[0;32m<ipython-input-15-45beebc5ea6e>\u001b[0m in \u001b[0;36m<module>\u001b[0;34m\u001b[0m\n\u001b[1;32m      1\u001b[0m \u001b[0;32mfrom\u001b[0m \u001b[0mbs4\u001b[0m \u001b[0;32mimport\u001b[0m \u001b[0mBeautifulSoup\u001b[0m\u001b[0;34m\u001b[0m\u001b[0;34m\u001b[0m\u001b[0m\n\u001b[1;32m      2\u001b[0m \u001b[0;32mimport\u001b[0m \u001b[0mjson\u001b[0m\u001b[0;34m,\u001b[0m \u001b[0mboto3\u001b[0m\u001b[0;34m\u001b[0m\u001b[0;34m\u001b[0m\u001b[0m\n\u001b[0;32m----> 3\u001b[0;31m \u001b[0;32mwith\u001b[0m \u001b[0mopen\u001b[0m\u001b[0;34m(\u001b[0m\u001b[0mresponse\u001b[0m\u001b[0;34m)\u001b[0m \u001b[0;32mas\u001b[0m \u001b[0mf\u001b[0m\u001b[0;34m:\u001b[0m\u001b[0;34m\u001b[0m\u001b[0;34m\u001b[0m\u001b[0m\n\u001b[0m\u001b[1;32m      4\u001b[0m     \u001b[0mdata\u001b[0m \u001b[0;34m=\u001b[0m \u001b[0mf\u001b[0m\u001b[0;34m.\u001b[0m\u001b[0mread\u001b[0m\u001b[0;34m(\u001b[0m\u001b[0;34m)\u001b[0m\u001b[0;34m\u001b[0m\u001b[0;34m\u001b[0m\u001b[0m\n",
      "\u001b[0;31mTypeError\u001b[0m: expected str, bytes or os.PathLike object, not dict"
     ]
    }
   ],
   "source": [
    "from bs4 import BeautifulSoup \n",
    "import json, boto3\n",
    "with open(response) as f: \n",
    "    data = f.read() \n"
   ]
  },
  {
   "cell_type": "code",
   "execution_count": 33,
   "metadata": {},
   "outputs": [],
   "source": [
    "import s3fs\n",
    "fs = s3fs.S3FileSystem()\n",
    "\n",
    "# To List 5 files in your accessible bucket\n",
    "fs.ls('signet-ring-cell-bryan/challenge1-signetringcell-dataset/sig-train-pos/sig-train-pos/')[:5]\n",
    "\n",
    "# open it directly\n",
    "with fs.open(f's3://signet-ring-cell-bryan/challenge1-signetringcell-dataset/sig-train-pos/sig-train-pos/2018_64982_1-3_2019-02-25 21_57_36-lv0-33516-59515-2003-2010.xml') as f:\n",
    "        data = f.read() \n"
   ]
  },
  {
   "cell_type": "code",
   "execution_count": 44,
   "metadata": {},
   "outputs": [
    {
     "name": "stdout",
     "output_type": "stream",
     "text": [
      "<width>2003</width>\n",
      "<height>2010</height>\n",
      "<depth>3</depth>\n",
      "</size>]\n",
      "2003\n",
      "2010\n",
      "3\n"
     ]
    }
   ],
   "source": [
    "Bs_data = BeautifulSoup(data, \"xml\") \n",
    "zz=Bs_data.find_all(\"size\")\n",
    "#print(zz)\n",
    "yyyy=str(zz)\n",
    "size=yyyy.partition('\\n')[2]\n",
    "print(size)\n",
    "wid=size.split(\"</width>\",1)[0] \n",
    "wid=wid.split(\"<width>\",1)[1]\n",
    "print(wid)\n",
    "hei=size.split(\"</height>\",1)[0] \n",
    "hei=hei.split(\"<height>\",1)[1]\n",
    "print(hei)\n",
    "depth=size.split(\"</depth>\",1)[0] \n",
    "depth=depth.split(\"<depth>\",1)[1]\n",
    "print(depth)"
   ]
  },
  {
   "cell_type": "code",
   "execution_count": 55,
   "metadata": {},
   "outputs": [
    {
     "ename": "AttributeError",
     "evalue": "module 'json' has no attribute 'dump_s3'",
     "output_type": "error",
     "traceback": [
      "\u001b[0;31m---------------------------------------------------------------------------\u001b[0m",
      "\u001b[0;31mAttributeError\u001b[0m                            Traceback (most recent call last)",
      "\u001b[0;32m<ipython-input-55-59be33e69166>\u001b[0m in \u001b[0;36m<module>\u001b[0;34m\u001b[0m\n\u001b[1;32m     40\u001b[0m \u001b[0;34m\u001b[0m\u001b[0m\n\u001b[1;32m     41\u001b[0m \u001b[0ms3\u001b[0m\u001b[0;34m=\u001b[0m\u001b[0;34m'signet-ring-cell-bryan/challenge1-signetringcell-dataset/sig-train-pos/sig-train-pos/'\u001b[0m\u001b[0;34m\u001b[0m\u001b[0;34m\u001b[0m\u001b[0m\n\u001b[0;32m---> 42\u001b[0;31m \u001b[0mjson\u001b[0m\u001b[0;34m.\u001b[0m\u001b[0mdump_s3\u001b[0m\u001b[0;34m(\u001b[0m\u001b[0mdata1\u001b[0m\u001b[0;34m,\u001b[0m \u001b[0;34m\"data.json\"\u001b[0m\u001b[0;34m)\u001b[0m \u001b[0;31m# saves json to s3://bucket/key\u001b[0m\u001b[0;34m\u001b[0m\u001b[0;34m\u001b[0m\u001b[0m\n\u001b[0m\u001b[1;32m     43\u001b[0m \u001b[0;32mwith\u001b[0m \u001b[0mopen\u001b[0m\u001b[0;34m(\u001b[0m\u001b[0;34m'data.json'\u001b[0m\u001b[0;34m,\u001b[0m \u001b[0;34m'w'\u001b[0m\u001b[0;34m)\u001b[0m \u001b[0;32mas\u001b[0m \u001b[0moutfile\u001b[0m\u001b[0;34m:\u001b[0m\u001b[0;34m\u001b[0m\u001b[0;34m\u001b[0m\u001b[0m\n\u001b[1;32m     44\u001b[0m     \u001b[0mprint\u001b[0m\u001b[0;34m(\u001b[0m\u001b[0;34m\"writing file\"\u001b[0m\u001b[0;34m)\u001b[0m\u001b[0;34m\u001b[0m\u001b[0;34m\u001b[0m\u001b[0m\n",
      "\u001b[0;31mAttributeError\u001b[0m: module 'json' has no attribute 'dump_s3'"
     ]
    }
   ],
   "source": [
    "b_unique = Bs_data.find_all('bndbox') \n",
    "data1={}\n",
    "data1['files']='2018_64982_1-3_2019-02-25 21_57_36-lv0-33516-59515-2003-2010.xml'\n",
    "data1['image_size']=[]\n",
    "data1['image_size'].append({\n",
    "    'width' : wid,\n",
    "    'height' : hei,\n",
    "    'depth' : depth\n",
    "})\n",
    "data1['annotations']=[]\n",
    "for i in range(len(b_unique)):\n",
    "  z=b_unique[i]\n",
    "  y=str(z)\n",
    "  yy=y.partition('\\n')[2]\n",
    "  xmin=yy.split(\"</xmin>\",1)[0] \n",
    "  xmin=xmin.split(\"<xmin>\",1)[1]\n",
    "  ymin=yy.split(\"</ymin>\",1)[0] \n",
    "  ymin=ymin.split(\"<ymin>\",1)[1]\n",
    "  xmax=yy.split(\"</xmax>\",1)[0] \n",
    "  xmax=xmax.split(\"<xmax>\",1)[1]\n",
    "  ymax=yy.split(\"</ymax>\",1)[0] \n",
    "  ymax=ymax.split(\"<ymax>\",1)[1]\n",
    "  left=int(xmin)\n",
    "  top=int(ymax)\n",
    "  height=str(int(ymax)-int(ymin))\n",
    "  width=str(int(xmax)-int(xmin))\n",
    "  data1['annotations'].append({\n",
    "      'class_id': 0,\n",
    "      'left': left,\n",
    "      'top' : top,\n",
    "      'width' : width,\n",
    "      'height' :height\n",
    "      })\n",
    "data1['categories']=[]\n",
    "data1['categories'].append({\n",
    "    'class_id' : 0,\n",
    "    'name' : \"signet ring cell\"\n",
    "})\n",
    "import json, boto3\n",
    "\n",
    "s3='signet-ring-cell-bryan/challenge1-signetringcell-dataset/sig-train-pos/sig-train-pos/'\n",
    "json.dump_s3(data1, \"data.json\") # saves json to s3://bucket/key\n",
    "with open('data.json', 'w') as outfile:\n",
    "    print(\"writing file\")\n",
    "    json.dump(data1, outfile) # saves json to s3://bucket/key"
   ]
  },
  {
   "cell_type": "code",
   "execution_count": null,
   "metadata": {},
   "outputs": [],
   "source": []
  }
 ],
 "metadata": {
  "instance_type": "ml.t3.medium",
  "kernelspec": {
   "display_name": "Python 3 (Data Science)",
   "language": "python",
   "name": "python3__SAGEMAKER_INTERNAL__arn:aws:sagemaker:us-east-2:429704687514:image/datascience-1.0"
  },
  "language_info": {
   "codemirror_mode": {
    "name": "ipython",
    "version": 3
   },
   "file_extension": ".py",
   "mimetype": "text/x-python",
   "name": "python",
   "nbconvert_exporter": "python",
   "pygments_lexer": "ipython3",
   "version": "3.7.6"
  }
 },
 "nbformat": 4,
 "nbformat_minor": 4
}
