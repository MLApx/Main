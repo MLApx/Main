{
 "cells": [
  {
   "cell_type": "code",
   "execution_count": null,
   "metadata": {},
   "outputs": [],
   "source": [
    "#Bryan Bennett\n",
    "# 3/2/2021"
   ]
  },
  {
   "cell_type": "code",
   "execution_count": null,
   "metadata": {},
   "outputs": [],
   "source": [
    "from sagemaker import get_execution_role\n",
    "import pandas as pd\n",
    "import sagemaker\n",
    "import boto3\n",
    "import os"
   ]
  },
  {
   "cell_type": "code",
   "execution_count": null,
   "metadata": {},
   "outputs": [],
   "source": [
    "role = get_execution_role()\n",
    "sess = sagemaker.Session()"
   ]
  },
  {
   "cell_type": "code",
   "execution_count": null,
   "metadata": {},
   "outputs": [],
   "source": [
    "bucketName = 'signet-ring-cell-bryan'\n",
    "folderName = 'challenge2-colorectal-dataset/tissue-train-pos-v1/'"
   ]
  },
  {
   "cell_type": "code",
   "execution_count": null,
   "metadata": {},
   "outputs": [],
   "source": [
    "s3_client = boto3.client('s3')\n",
    "bucket = s3_client.list_objects(Bucket=bucketName, Prefix=folderName)"
   ]
  },
  {
   "cell_type": "code",
   "execution_count": null,
   "metadata": {},
   "outputs": [],
   "source": [
    "len(bucket['Contents'])"
   ]
  },
  {
   "cell_type": "code",
   "execution_count": null,
   "metadata": {},
   "outputs": [],
   "source": [
    "DST_folderName = 'challenge2-colorectal-dataset/tissue-train-pos-pngs/'"
   ]
  },
  {
   "cell_type": "code",
   "execution_count": null,
   "metadata": {},
   "outputs": [],
   "source": [
    "#Create png copies of masks, someone check if this works with the file structure\n",
    "\n",
    "#FIXME: Split train and validation sets here?\n",
    "#import shutil\n",
    "from PIL import Image\n",
    "\n",
    "\n",
    "#Create annotation file for each image\n",
    "for img_num in range(len(bucket['Contents'])):\n",
    "    if img_num%2==0:\n",
    "            file_name = bucket['Contents'][img_num]['Key']\n",
    "            png_fileName = fileName.split('/')[-1][:-4] + '.png'\n",
    "            with Image.open('{}/{}'.format(bucketName, file_name)) as im:\n",
    "                s3_client.upload_fileobj(im, bucketName, DST_folderName + png_fileName)\n",
    "                #im.save(bucketName + DST_folderName + file_name + '.png')"
   ]
  },
  {
   "cell_type": "code",
   "execution_count": null,
   "metadata": {},
   "outputs": [],
   "source": [
    "# Bucket names for training and validation data\n",
    "\n",
    "prefix = 'challenge2-colorectal-dataset/tumor_segmentation_model'\n",
    "\n",
    "train_channel = prefix + '/train'\n",
    "validation_channel = prefix + '/validation'\n",
    "train_annotation_channel = prefix + '/train_annotation'\n",
    "validation_annotation_channel = prefix + '/validation_annotation'\n",
    "\n",
    "\n",
    "s3_train_data = 's3://{}/{}'.format(bucketName, train_channel)\n",
    "s3_validation_data = 's3://{}/{}'.format(bucketName, validation_channel)\n",
    "s3_train_annotation = 's3://{}/{}'.format(bucketName, train_annotation_channel)\n",
    "s3_validation_annotation = 's3://{}/{}'.format(bucketName, validation_annotation_channel)"
   ]
  },
  {
   "cell_type": "code",
   "execution_count": null,
   "metadata": {},
   "outputs": [],
   "source": [
    "# Split training and validation sets\n",
    "\n",
    "ratio = 0.2 #Fraction of images to go in validation set (0.2 = 20%)\n",
    "\n",
    "for img_num in range(len(bucket['Contents'])):\n",
    "    \n",
    "    file_name = bucket['Contents'][img_num]['Key']\n",
    "\n",
    "    # it's a mask\n",
    "    if img_num%2==0:    \n",
    "        png_fileName = fileName.split('/')[-1][:-4] + '.png'\n",
    "        with Image.open('{}/{}'.format(bucketName, file_name)) as im:     \n",
    "            if(img_num < (img_num*ratio)):\n",
    "                s3_client.upload_fileobj(im, bucketName, validation_annotation_channel + png_fileName)\n",
    "            else:\n",
    "                s3_client.upload_fileobj(im, bucketName, train_annotation_channel + png_fileName)\n",
    "                \n",
    "    # it's an image\n",
    "    if img_num%2==1:\n",
    "        with Image.open('{}/{}'.format(bucketName, file_name)) as im:     \n",
    "            if(img_num < (img_num*ratio)):\n",
    "                s3_client.upload_fileobj(im, bucketName, validation_annotation_channel + fileName)\n",
    "            else:\n",
    "                s3_client.upload_fileobj(im, bucketName, train_annotation_channel + fileName)\n",
    "            "
   ]
  },
  {
   "cell_type": "code",
   "execution_count": null,
   "metadata": {},
   "outputs": [],
   "source": [
    "import glob\n",
    "\n",
    "num_training_samples = len(glob.glob1(s3_train_data,\"*.jpg\"))\n",
    "num_validation_samples = len(glob.glob1(s3_validation_data,\"*.jpg\"))\n",
    "\n",
    "print('Num Train Images = ' + str(num_training_samples))\n",
    "assert num_training_samples == len(glob.glob1(s3_train_annotation,\"*.png\"))\n",
    "\n",
    "print('Num Validation Images = ' + str(num_validation_samples))\n",
    "assert num_validation_samples == len(glob.glob1(s3_validation_annotation,\"*.png\"))"
   ]
  },
  {
   "cell_type": "code",
   "execution_count": null,
   "metadata": {},
   "outputs": [],
   "source": [
    "# Set output location where artifact will be stored\n",
    "s3_output_location = 's3://{}/{}/output'.format(bucketName, 'challenge2-colorectal-dataset/tumor_segmentation_model')"
   ]
  },
  {
   "cell_type": "code",
   "execution_count": null,
   "metadata": {},
   "outputs": [],
   "source": [
    "# Get training uri\n",
    "\n",
    "#Arguments in-order\n",
    "training_image = sagemaker.image_uris.retrieve(region=sess.boto_region_name, framework='semantic-segmentation')\n",
    "print (training_image)"
   ]
  },
  {
   "cell_type": "code",
   "execution_count": null,
   "metadata": {},
   "outputs": [],
   "source": [
    "from sagemaker.amazon.amazon_estimator import get_image_uri\n",
    "\n",
    "training_image = get_image_uri(sess.boto_region_name, 'semantic-segmentation', repo_version=\"latest\")\n",
    "print (training_image)"
   ]
  },
  {
   "cell_type": "code",
   "execution_count": null,
   "metadata": {},
   "outputs": [],
   "source": []
  }
 ],
 "metadata": {
  "instance_type": "ml.t3.medium",
  "kernelspec": {
   "display_name": "Python 3 (SageMaker JumpStart Data Science 1.0)",
   "language": "python",
   "name": "python3__SAGEMAKER_INTERNAL__arn:aws:sagemaker:us-east-1:793310587911:image/sagemaker-jumpstart-data-science-1.0"
  },
  "language_info": {
   "codemirror_mode": {
    "name": "ipython",
    "version": 3
   },
   "file_extension": ".py",
   "mimetype": "text/x-python",
   "name": "python",
   "nbconvert_exporter": "python",
   "pygments_lexer": "ipython3",
   "version": "3.7.10"
  }
 },
 "nbformat": 4,
 "nbformat_minor": 4
}
