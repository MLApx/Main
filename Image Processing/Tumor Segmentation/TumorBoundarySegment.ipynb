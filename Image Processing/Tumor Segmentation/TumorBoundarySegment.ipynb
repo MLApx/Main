{
 "cells": [
  {
   "cell_type": "code",
   "execution_count": null,
   "metadata": {},
   "outputs": [],
   "source": [
    "#Bryan Bennett\n",
    "# 3/2/2021"
   ]
  },
  {
   "cell_type": "code",
   "execution_count": 1,
   "metadata": {},
   "outputs": [],
   "source": [
    "from sagemaker import get_execution_role\n",
    "import pandas as pd\n",
    "import sagemaker\n",
    "import boto3\n",
    "import os"
   ]
  },
  {
   "cell_type": "code",
   "execution_count": 2,
   "metadata": {},
   "outputs": [],
   "source": [
    "role = get_execution_role()\n",
    "sess = sagemaker.Session()"
   ]
  },
  {
   "cell_type": "code",
   "execution_count": 3,
   "metadata": {},
   "outputs": [],
   "source": [
    "bucketName = 'signet-ring-cell-bryan'\n",
    "folderName = 'challenge2-colorectal-dataset/tissue-train-pos-v1/'"
   ]
  },
  {
   "cell_type": "code",
   "execution_count": 4,
   "metadata": {},
   "outputs": [],
   "source": [
    "s3_client = boto3.client('s3')\n",
    "bucket = s3_client.list_objects(Bucket=bucketName, Prefix=folderName)"
   ]
  },
  {
   "cell_type": "code",
   "execution_count": 5,
   "metadata": {},
   "outputs": [
    {
     "data": {
      "text/plain": [
       "500"
      ]
     },
     "execution_count": 5,
     "metadata": {},
     "output_type": "execute_result"
    }
   ],
   "source": [
    "len(bucket['Contents'])"
   ]
  },
  {
   "cell_type": "code",
   "execution_count": 6,
   "metadata": {},
   "outputs": [],
   "source": [
    "DST_folderName = 'challenge2-colorectal-dataset/tissue-train-pos-pngs/'"
   ]
  },
  {
   "cell_type": "code",
   "execution_count": 8,
   "metadata": {},
   "outputs": [
    {
     "ename": "FileNotFoundError",
     "evalue": "[Errno 2] No such file or directory: 'signet-ring-cell-bryan/challenge2-colorectal-dataset/tissue-train-pos-v1/18-00530B_2019-05-07 23_56_22-lv1-11712-16122-7372-7686.jpg'",
     "output_type": "error",
     "traceback": [
      "\u001b[0;31m---------------------------------------------------------------------------\u001b[0m",
      "\u001b[0;31mFileNotFoundError\u001b[0m                         Traceback (most recent call last)",
      "\u001b[0;32m<ipython-input-8-ba414730b905>\u001b[0m in \u001b[0;36m<module>\u001b[0;34m\u001b[0m\n\u001b[1;32m     11\u001b[0m             \u001b[0mfile_name\u001b[0m \u001b[0;34m=\u001b[0m \u001b[0mbucket\u001b[0m\u001b[0;34m[\u001b[0m\u001b[0;34m'Contents'\u001b[0m\u001b[0;34m]\u001b[0m\u001b[0;34m[\u001b[0m\u001b[0mimg_num\u001b[0m\u001b[0;34m]\u001b[0m\u001b[0;34m[\u001b[0m\u001b[0;34m'Key'\u001b[0m\u001b[0;34m]\u001b[0m\u001b[0;34m\u001b[0m\u001b[0;34m\u001b[0m\u001b[0m\n\u001b[1;32m     12\u001b[0m             \u001b[0mpng_fileName\u001b[0m \u001b[0;34m=\u001b[0m \u001b[0mfile_name\u001b[0m\u001b[0;34m.\u001b[0m\u001b[0msplit\u001b[0m\u001b[0;34m(\u001b[0m\u001b[0;34m'/'\u001b[0m\u001b[0;34m)\u001b[0m\u001b[0;34m[\u001b[0m\u001b[0;34m-\u001b[0m\u001b[0;36m1\u001b[0m\u001b[0;34m]\u001b[0m\u001b[0;34m[\u001b[0m\u001b[0;34m:\u001b[0m\u001b[0;34m-\u001b[0m\u001b[0;36m4\u001b[0m\u001b[0;34m]\u001b[0m \u001b[0;34m+\u001b[0m \u001b[0;34m'.png'\u001b[0m\u001b[0;34m\u001b[0m\u001b[0;34m\u001b[0m\u001b[0m\n\u001b[0;32m---> 13\u001b[0;31m             \u001b[0;32mwith\u001b[0m \u001b[0mImage\u001b[0m\u001b[0;34m.\u001b[0m\u001b[0mopen\u001b[0m\u001b[0;34m(\u001b[0m\u001b[0;34m'{}/{}'\u001b[0m\u001b[0;34m.\u001b[0m\u001b[0mformat\u001b[0m\u001b[0;34m(\u001b[0m\u001b[0mbucketName\u001b[0m\u001b[0;34m,\u001b[0m \u001b[0mfile_name\u001b[0m\u001b[0;34m)\u001b[0m\u001b[0;34m)\u001b[0m \u001b[0;32mas\u001b[0m \u001b[0mim\u001b[0m\u001b[0;34m:\u001b[0m\u001b[0;34m\u001b[0m\u001b[0;34m\u001b[0m\u001b[0m\n\u001b[0m\u001b[1;32m     14\u001b[0m                 \u001b[0ms3_client\u001b[0m\u001b[0;34m.\u001b[0m\u001b[0mupload_fileobj\u001b[0m\u001b[0;34m(\u001b[0m\u001b[0mim\u001b[0m\u001b[0;34m,\u001b[0m \u001b[0mbucketName\u001b[0m\u001b[0;34m,\u001b[0m \u001b[0mDST_folderName\u001b[0m \u001b[0;34m+\u001b[0m \u001b[0mpng_fileName\u001b[0m\u001b[0;34m)\u001b[0m\u001b[0;34m\u001b[0m\u001b[0;34m\u001b[0m\u001b[0m\n\u001b[1;32m     15\u001b[0m                 \u001b[0;31m#im.save(bucketName + DST_folderName + file_name + '.png')\u001b[0m\u001b[0;34m\u001b[0m\u001b[0;34m\u001b[0m\u001b[0;34m\u001b[0m\u001b[0m\n",
      "\u001b[0;32m/opt/conda/envs/sagemaker-soln/lib/python3.7/site-packages/PIL/Image.py\u001b[0m in \u001b[0;36mopen\u001b[0;34m(fp, mode, formats)\u001b[0m\n\u001b[1;32m   2902\u001b[0m \u001b[0;34m\u001b[0m\u001b[0m\n\u001b[1;32m   2903\u001b[0m     \u001b[0;32mif\u001b[0m \u001b[0mfilename\u001b[0m\u001b[0;34m:\u001b[0m\u001b[0;34m\u001b[0m\u001b[0;34m\u001b[0m\u001b[0m\n\u001b[0;32m-> 2904\u001b[0;31m         \u001b[0mfp\u001b[0m \u001b[0;34m=\u001b[0m \u001b[0mbuiltins\u001b[0m\u001b[0;34m.\u001b[0m\u001b[0mopen\u001b[0m\u001b[0;34m(\u001b[0m\u001b[0mfilename\u001b[0m\u001b[0;34m,\u001b[0m \u001b[0;34m\"rb\"\u001b[0m\u001b[0;34m)\u001b[0m\u001b[0;34m\u001b[0m\u001b[0;34m\u001b[0m\u001b[0m\n\u001b[0m\u001b[1;32m   2905\u001b[0m         \u001b[0mexclusive_fp\u001b[0m \u001b[0;34m=\u001b[0m \u001b[0;32mTrue\u001b[0m\u001b[0;34m\u001b[0m\u001b[0;34m\u001b[0m\u001b[0m\n\u001b[1;32m   2906\u001b[0m \u001b[0;34m\u001b[0m\u001b[0m\n",
      "\u001b[0;31mFileNotFoundError\u001b[0m: [Errno 2] No such file or directory: 'signet-ring-cell-bryan/challenge2-colorectal-dataset/tissue-train-pos-v1/18-00530B_2019-05-07 23_56_22-lv1-11712-16122-7372-7686.jpg'"
     ]
    }
   ],
   "source": [
    "#Create png copies of masks, someone check if this works with the file structure\n",
    "\n",
    "#FIXME: Split train and validation sets here?\n",
    "#import shutil\n",
    "from PIL import Image\n",
    "\n",
    "\n",
    "#Create annotation file for each image\n",
    "for img_num in range(len(bucket['Contents'])):\n",
    "    if img_num%2==0:\n",
    "            file_name = bucket['Contents'][img_num]['Key']\n",
    "            png_fileName = file_name.split('/')[-1][:-4] + '.png'\n",
    "            with Image.open('{}/{}'.format(bucketName, file_name)) as im:\n",
    "                s3_client.upload_fileobj(im, bucketName, DST_folderName + png_fileName)\n",
    "                #im.save(bucketName + DST_folderName + file_name + '.png')"
   ]
  },
  {
   "cell_type": "code",
   "execution_count": null,
   "metadata": {},
   "outputs": [],
   "source": [
    "# Bucket names for training and validation data\n",
    "\n",
    "\n",
    "\n",
    "prefix = 'challenge2-colorectal-dataset/tumor_segmentation_model'\n",
    "\n",
    "train_channel = prefix + '/train'\n",
    "validation_channel = prefix + '/validation'\n",
    "train_annotation_channel = prefix + '/train_annotation'\n",
    "validation_annotation_channel = prefix + '/validation_annotation'\n",
    "label_map_channel = prefix + '/label_map'\n",
    "\n",
    "\n",
    "\n",
    "s3_train_data = 's3://{}/{}'.format(bucketName, train_channel)\n",
    "s3_validation_data = 's3://{}/{}'.format(bucketName, validation_channel)\n",
    "s3_train_annotation = 's3://{}/{}'.format(bucketName, train_annotation_channel)\n",
    "s3_validation_annotation = 's3://{}/{}'.format(bucketName, validation_annotation_channel)\n",
    "s3_label_map = 's3://{}/{}'.format(bucketName, label_map_channel)"
   ]
  },
  {
   "cell_type": "code",
   "execution_count": null,
   "metadata": {},
   "outputs": [],
   "source": [
    "import json\n",
    "\n",
    "label_map = { 'scale': 1 }\n",
    "\n",
    "with open('train_label_map.json', 'w') as lmfile:\n",
    "    json.dump(label_map, lmfile)\n",
    "    s3_client.upload_fileobj(lmfile, bucketName, label_map_channel + '/train_label_map.json')\n",
    "    \n",
    "with open('validation_label_map.json', 'w') as lmfile:\n",
    "    json.dump(label_map, lmfile)\n",
    "    s3_client.upload_fileobj(lmfile, bucketName, label_map_channel + '/validation_label_map.json')"
   ]
  },
  {
   "cell_type": "code",
   "execution_count": null,
   "metadata": {},
   "outputs": [],
   "source": [
    "# Split training and validation sets\n",
    "from PIL import Image\n",
    "\n",
    "ratio = 0.2 #Fraction of images to go in validation set (0.2 = 20%)\n",
    "\n",
    "for img_num in range(len(bucket['Contents'])):\n",
    "    \n",
    "    file_name = bucket['Contents'][img_num]['Key']\n",
    "\n",
    "    # it's a mask\n",
    "    if img_num%2==0:    \n",
    "        png_fileName = file_name.split('/')[-1][:-4] + '.png'\n",
    "        with Image.open('{}/{}'.format(bucketName, file_name)) as im:     \n",
    "            if(img_num < (img_num*ratio)):\n",
    "                s3_client.upload_fileobj(im, bucketName, validation_annotation_channel + png_fileName)\n",
    "            else:\n",
    "                s3_client.upload_fileobj(im, bucketName, train_annotation_channel + png_fileName)\n",
    "                \n",
    "    # it's an image\n",
    "    if img_num%2==1:\n",
    "        with Image.open('{}/{}'.format(bucketName, file_name)) as im:     \n",
    "            if(img_num < (img_num*ratio)):\n",
    "                s3_client.upload_fileobj(im, bucketName, validation_annotation_channel + fileName)\n",
    "            else:\n",
    "                s3_client.upload_fileobj(im, bucketName, train_annotation_channel + fileName)\n",
    "            "
   ]
  },
  {
   "cell_type": "code",
   "execution_count": null,
   "metadata": {},
   "outputs": [],
   "source": [
    "import glob\n",
    "\n",
    "num_training_samples = len(glob.glob1(s3_train_data,\"*.jpg\"))\n",
    "num_validation_samples = len(glob.glob1(s3_validation_data,\"*.jpg\"))\n",
    "\n",
    "print('Num Train Images = ' + str(num_training_samples))\n",
    "assert num_training_samples == len(glob.glob1(s3_train_annotation,\"*.png\"))\n",
    "\n",
    "print('Num Validation Images = ' + str(num_validation_samples))\n",
    "assert num_validation_samples == len(glob.glob1(s3_validation_annotation,\"*.png\"))"
   ]
  },
  {
   "cell_type": "code",
   "execution_count": null,
   "metadata": {},
   "outputs": [],
   "source": [
    "# Set output location where artifact will be stored\n",
    "s3_output_location = 's3://{}/{}/output'.format(bucketName, 'challenge2-colorectal-dataset/tumor_segmentation_model')"
   ]
  },
  {
   "cell_type": "code",
   "execution_count": null,
   "metadata": {},
   "outputs": [],
   "source": [
    "# Get training uri\n",
    "\n",
    "#Arguments in-order\n",
    "training_image = sagemaker.image_uris.retrieve(region=sess.boto_region_name, framework='semantic-segmentation')\n",
    "print (training_image)"
   ]
  },
  {
   "cell_type": "code",
   "execution_count": null,
   "metadata": {},
   "outputs": [],
   "source": [
    "from sagemaker.amazon.amazon_estimator import get_image_uri\n",
    "\n",
    "training_image = get_image_uri(sess.boto_region_name, 'semantic-segmentation', repo_version=\"latest\")\n",
    "print (training_image)"
   ]
  },
  {
   "cell_type": "code",
   "execution_count": null,
   "metadata": {},
   "outputs": [],
   "source": [
    "# Training the model\n",
    "\n",
    "# Sagemaker estimator will initiate the training job\n",
    "\n",
    "ss_model = sagemaker.estimator.Estimator(training_image,\n",
    "                                         role, \n",
    "                                         instance_count=1, \n",
    "                                         instance_type='ml.p3.2xlarge',\n",
    "                                         volume_size = 50,\n",
    "                                         max_run = 360000,\n",
    "                                         output_path=s3_output_location,\n",
    "                                         sagemaker_session=sess)"
   ]
  },
  {
   "cell_type": "code",
   "execution_count": null,
   "metadata": {},
   "outputs": [],
   "source": [
    "# Set our hyperparameters\n",
    "\n",
    "ss_model.set_hyperparameters(backbone='resnet-50',  # This is the encoder. Other option is resnet-101\n",
    "                             algorithm='fcn',  # This is the decoder. Other options are 'psp' and 'deeplab'                             \n",
    "                             use_pretrained_model=1,  # Use the pre-trained model.\n",
    "                             #crop_size=240,  # Size of image random crop.                             \n",
    "                             num_classes=1,  # FIXME: Should this be 2 or 1? Normal tissue and cancerous?\n",
    "                             epochs=30,  # Number of epochs to run.\n",
    "                             learning_rate=0.0001,\n",
    "                             optimizer='rmsprop',  # Other options include 'adam', 'rmsprop', 'nag', 'adagrad'.\n",
    "                             lr_scheduler='poly',  # Other options include 'cosine' and 'step'.                           \n",
    "                             mini_batch_size=8,  # Setup some mini batch size.\n",
    "                             validation_mini_batch_size=5,\n",
    "                             num_training_samples=num_training_samples,  # This is a mandatory parameter, 1464 in this case.\n",
    ")"
   ]
  },
  {
   "cell_type": "code",
   "execution_count": null,
   "metadata": {},
   "outputs": [],
   "source": [
    "# Configure data channels from s3\n",
    "distribution = 'FullyReplicated'\n",
    "\n",
    "\n",
    "train_data = sagemaker.inputs.TrainingInput(s3_train_data, distribution=distribution, content_type='image/jpg', s3_data_type='S3Prefix')\n",
    "validation_data = sagemaker.inputs.TrainingInput(s3_validation_data, distribution=distribution, content_type='image/jpg', s3_data_type='S3Prefix')\n",
    "train_annotation = sagemaker.inputs.TrainingInput(s3_train_annotation, distribution=distribution, content_type='image/png', s3_data_type='S3Prefix')\n",
    "validation_annotation = sagemaker.inputs.TrainingInput(s3_validation_annotation, distribution=distribution, content_type='image/png', s3_data_type='S3Prefix')\n",
    "#label_map = sagemaker.inputs.TrainingInput(s3_label_map, distribution=distribution, content_type='application/json', s3_data_type='S3Prefix')\n",
    "\n",
    "data_channels = {'train': train_data,\n",
    "                 'validation': validation_data, \n",
    "                 'train_annotation': train_annotation,\n",
    "                 'validation_annotation':validation_annotation,\n",
    "                 'label_map': label_map_channel #FIXME: This could be a problem, maybe just the channel?\n",
    "                }"
   ]
  },
  {
   "cell_type": "code",
   "execution_count": null,
   "metadata": {},
   "outputs": [],
   "source": [
    "# Train the model\n",
    "\n",
    "ss_model.fit(data_channels, logs=True)"
   ]
  }
 ],
 "metadata": {
  "instance_type": "ml.t3.medium",
  "kernelspec": {
   "display_name": "Python 3 (SageMaker JumpStart Data Science 1.0)",
   "language": "python",
   "name": "python3__SAGEMAKER_INTERNAL__arn:aws:sagemaker:us-east-1:793310587911:image/sagemaker-jumpstart-data-science-1.0"
  },
  "language_info": {
   "codemirror_mode": {
    "name": "ipython",
    "version": 3
   },
   "file_extension": ".py",
   "mimetype": "text/x-python",
   "name": "python",
   "nbconvert_exporter": "python",
   "pygments_lexer": "ipython3",
   "version": "3.7.10"
  }
 },
 "nbformat": 4,
 "nbformat_minor": 4
}
