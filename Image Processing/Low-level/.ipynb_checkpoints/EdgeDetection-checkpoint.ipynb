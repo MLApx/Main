{
 "cells": [
  {
   "cell_type": "code",
   "execution_count": 56,
   "metadata": {},
   "outputs": [],
   "source": [
    "import boto3\n",
    "import pandas as pd\n",
    "from sagemaker import get_execution_role"
   ]
  },
  {
   "cell_type": "code",
   "execution_count": 57,
   "metadata": {},
   "outputs": [],
   "source": [
    "role = get_execution_role()"
   ]
  },
  {
   "cell_type": "code",
   "execution_count": 58,
   "metadata": {},
   "outputs": [],
   "source": [
    "bucketName = 'signet-ring-cell-bryan'\n",
    "folderName = 'challenge1-signetringcell-dataset/sig-train-pos/'"
   ]
  },
  {
   "cell_type": "code",
   "execution_count": 59,
   "metadata": {},
   "outputs": [],
   "source": [
    "loc = 's3://{}/{}'.format(bucket, folder)"
   ]
  },
  {
   "cell_type": "code",
   "execution_count": 60,
   "metadata": {},
   "outputs": [],
   "source": [
    "bucket = boto3.client('s3').list_objects(Bucket=bucketName, Prefix=folderName)"
   ]
  },
  {
   "cell_type": "code",
   "execution_count": 61,
   "metadata": {},
   "outputs": [
    {
     "name": "stdout",
     "output_type": "stream",
     "text": [
      "challenge1-signetringcell-dataset/sig-train-neg/sig-train-neg/18-36771A_2019-05-08 22_29_28-lv0-40882-42749-2000-2000.jpeg\n",
      "challenge1-signetringcell-dataset/sig-train-neg/sig-train-neg/18-36771A_2019-05-08 22_29_28-lv0-44320-43589-2000-2000.jpeg\n",
      "challenge1-signetringcell-dataset/sig-train-neg/sig-train-neg/18-36771A_2019-05-08 22_29_28-lv0-50178-15688-2000-2000.jpeg\n",
      "challenge1-signetringcell-dataset/sig-train-neg/sig-train-neg/18-36771A_2019-05-08 22_29_28-lv0-6126-27812-2000-2000.jpeg\n",
      "challenge1-signetringcell-dataset/sig-train-neg/sig-train-neg/18-36771A_2019-05-08 22_29_28-lv0-8948-24590-2000-2000.jpeg\n"
     ]
    }
   ],
   "source": [
    "# First five images in our dataset\n",
    "for img_num in range(1,6):\n",
    "    print(bucket['Contents'][img_num]['Key'])"
   ]
  },
  {
   "cell_type": "code",
   "execution_count": null,
   "metadata": {},
   "outputs": [],
   "source": []
  }
 ],
 "metadata": {
  "kernelspec": {
   "display_name": "Python 3 (Data Science)",
   "language": "python",
   "name": "python3__SAGEMAKER_INTERNAL__arn:aws:sagemaker:us-east-2:429704687514:image/datascience-1.0"
  },
  "language_info": {
   "codemirror_mode": {
    "name": "ipython",
    "version": 3
   },
   "file_extension": ".py",
   "mimetype": "text/x-python",
   "name": "python",
   "nbconvert_exporter": "python",
   "pygments_lexer": "ipython3",
   "version": "3.7.6"
  }
 },
 "nbformat": 4,
 "nbformat_minor": 4
}
